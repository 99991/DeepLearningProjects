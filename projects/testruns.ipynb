{
 "cells": [
  {
   "cell_type": "code",
   "execution_count": 5,
   "metadata": {
    "collapsed": false
   },
   "outputs": [],
   "source": [
    "import project01_2\n",
    "import time"
   ]
  },
  {
   "cell_type": "code",
   "execution_count": 61,
   "metadata": {
    "collapsed": false,
    "scrolled": true
   },
   "outputs": [
    {
     "name": "stdout",
     "output_type": "stream",
     "text": [
      "Extracting ../mnist/train-images-idx3-ubyte.gz\n",
      "Extracting ../mnist/train-labels-idx1-ubyte.gz\n",
      "Extracting ../mnist/t10k-images-idx3-ubyte.gz\n",
      "Extracting ../mnist/t10k-labels-idx1-ubyte.gz\n",
      "===================================\n",
      "Running training, confirming input:\n",
      "-----------------------------------\n",
      "batch_size               = 1000\n",
      "num_kernels1             = 4\n",
      "num_kernels2             = 32\n",
      "num_hidden               = 512\n",
      "regularization_factor    = 0.000100\n",
      "dropout_keep_probability = 0.500000\n",
      "learning_rate            = 0.000100\n",
      "kernel1_size             = 7\n",
      "kernel2_size             = 5\n",
      "test_interval            = 100\n",
      "num_batches              = 2001\n",
      "seed                     = 666\n",
      "===================================\n",
      "batch     0, accuracy 0.073300, loss 3.310529\n",
      "batch   100, accuracy 0.841600, loss 1.144737\n",
      "batch   200, accuracy 0.902800, loss 0.704672\n",
      "batch   300, accuracy 0.929300, loss 0.565845\n",
      "batch   400, accuracy 0.944500, loss 0.496363\n",
      "batch   500, accuracy 0.952700, loss 0.452242\n",
      "batch   600, accuracy 0.958400, loss 0.422704\n",
      "batch   700, accuracy 0.964400, loss 0.398945\n",
      "batch   800, accuracy 0.967000, loss 0.383468\n",
      "batch   900, accuracy 0.971200, loss 0.367522\n",
      "batch  1000, accuracy 0.972900, loss 0.356066\n",
      "batch  1100, accuracy 0.975600, loss 0.347613\n",
      "batch  1200, accuracy 0.975500, loss 0.338247\n",
      "batch  1300, accuracy 0.977500, loss 0.330469\n",
      "batch  1400, accuracy 0.977900, loss 0.324675\n",
      "batch  1500, accuracy 0.979100, loss 0.317596\n",
      "batch  1600, accuracy 0.979600, loss 0.311360\n",
      "batch  1700, accuracy 0.980600, loss 0.306268\n",
      "batch  1800, accuracy 0.980700, loss 0.301412\n",
      "batch  1900, accuracy 0.982600, loss 0.297078\n",
      "batch  2000, accuracy 0.982200, loss 0.292505\n",
      "55.320203\n"
     ]
    }
   ],
   "source": [
    "start = time.clock()\n",
    "accuracies, losses = project01_2.run_nn(batch_size=1000,\n",
    "                                        num_hidden = 512,\n",
    "                                        kernel1_size = 7,\n",
    "                                        kernel2_size = 5,\n",
    "                                        num_batches = 2001,\n",
    "                                        learning_rate = 0.0001)\n",
    "end = time.clock()\n",
    "runtime = end-start\n",
    "print(runtime)"
   ]
  },
  {
   "cell_type": "code",
   "execution_count": 58,
   "metadata": {
    "collapsed": true
   },
   "outputs": [],
   "source": [
    "import matplotlib.pyplot as plt"
   ]
  },
  {
   "cell_type": "code",
   "execution_count": 60,
   "metadata": {
    "collapsed": false
   },
   "outputs": [
    {
     "name": "stdout",
     "output_type": "stream",
     "text": [
      "Populating the interactive namespace from numpy and matplotlib\n"
     ]
    },
    {
     "data": {
      "text/plain": [
       "[<matplotlib.lines.Line2D at 0x7ff092668d10>]"
      ]
     },
     "execution_count": 60,
     "metadata": {},
     "output_type": "execute_result"
    },
    {
     "data": {
      "image/png": "[encoded data removed]",
      "text/plain": [
       "<matplotlib.figure.Figure at 0x7ff0a0d1b990>"
      ]
     },
     "metadata": {},
     "output_type": "display_data"
    }
   ],
   "source": [
    "%pylab inline\n",
    "plt.semilogy(losses)\n",
    "plt.semilogy(accuracies)"
   ]
  },
  {
   "cell_type": "code",
   "execution_count": null,
   "metadata": {
    "collapsed": true
   },
   "outputs": [],
   "source": []
  }
 ],
 "metadata": {
  "kernelspec": {
   "display_name": "Python 2",
   "language": "python",
   "name": "python2"
  },
  "language_info": {
   "codemirror_mode": {
    "name": "ipython",
    "version": 2
   },
   "file_extension": ".py",
   "mimetype": "text/x-python",
   "name": "python",
   "nbconvert_exporter": "python",
   "pygments_lexer": "ipython2",
   "version": "2.7.12+"
  }
 },
 "nbformat": 4,
 "nbformat_minor": 2
}
